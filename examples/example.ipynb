{
 "cells": [
  {
   "cell_type": "code",
   "execution_count": null,
   "metadata": {},
   "outputs": [],
   "source": [
    "# This cell is only needed for development.\n",
    "%load_ext autoreload\n",
    "%autoreload 2\n",
    "%env ANYWIDGET_HMR=1"
   ]
  },
  {
   "cell_type": "code",
   "execution_count": null,
   "metadata": {},
   "outputs": [],
   "source": [
    "import json\n",
    "\n",
    "def load_file(filename):\n",
    "    with open(filename, 'r') as fhandle:\n",
    "        return json.load(fhandle)\n",
    "\n",
    "si_bands = load_file(\"./data/Si_bands.json\")\n",
    "si_dos = load_file(\"./data/Si_dos.json\")\n",
    "co_bands = load_file(\"./data/Co_bands.json\")\n",
    "co_dos = load_file(\"./data/Co_dos.json\")\n",
    "si_bands_shifted = load_file(\"./data/Si_bands_Shifted.json\")"
   ]
  },
  {
   "cell_type": "code",
   "execution_count": null,
   "metadata": {},
   "outputs": [],
   "source": [
    "from widget_bandsplot import BandsPlotWidget\n",
    "# Note: the widget might not work in the vscode jupyter visualizer\n",
    "# Jupyter notebook and lab seem to work fine."
   ]
  },
  {
   "cell_type": "markdown",
   "metadata": {},
   "source": [
    "## Plot Si bandstructure and density of states"
   ]
  },
  {
   "cell_type": "code",
   "execution_count": null,
   "metadata": {},
   "outputs": [],
   "source": [
    "w1 = BandsPlotWidget(\n",
    "    bands = [si_bands],\n",
    "    dos = si_dos,\n",
    "    energy_range = [-8.0, 8.0],\n",
    "    format_settings = {\n",
    "        \"showFermi\": True,\n",
    "        \"showLegend\": True,\n",
    "    }\n",
    ")\n",
    "display(w1)"
   ]
  },
  {
   "cell_type": "markdown",
   "metadata": {},
   "source": [
    "## Plot Co bandstructure and density of states (spin polarized)"
   ]
  },
  {
   "cell_type": "code",
   "execution_count": null,
   "metadata": {},
   "outputs": [],
   "source": [
    "w2 = BandsPlotWidget(\n",
    "    bands=[co_bands],\n",
    "    dos=co_dos,\n",
    "    energy_range = [-10.0, 10.0],\n",
    "    bands_color = [[\"red\", \"blue\"]])\n",
    "display(w2)"
   ]
  },
  {
   "cell_type": "markdown",
   "metadata": {},
   "source": [
    "## Only plot the density of states for Co"
   ]
  },
  {
   "cell_type": "code",
   "execution_count": null,
   "metadata": {},
   "outputs": [],
   "source": [
    "w3 = BandsPlotWidget(\n",
    "    dos=co_dos,\n",
    "    energy_range = [-10.0, 10.0]\n",
    ")\n",
    "display(w3)"
   ]
  },
  {
   "cell_type": "markdown",
   "metadata": {},
   "source": [
    "## Only plot the Si bandstructure"
   ]
  },
  {
   "cell_type": "code",
   "execution_count": null,
   "metadata": {},
   "outputs": [],
   "source": [
    "w4 = BandsPlotWidget(\n",
    "    bands=[si_bands],\n",
    "    energy_range = [-10.0, 10.0]\n",
    ")\n",
    "display(w4)"
   ]
  },
  {
   "cell_type": "markdown",
   "metadata": {},
   "source": [
    "## Plot two bandstructures"
   ]
  },
  {
   "cell_type": "code",
   "execution_count": null,
   "metadata": {},
   "outputs": [],
   "source": [
    "w5 = BandsPlotWidget(\n",
    "    bands=[si_bands, si_bands_shifted],\n",
    "    dos=si_dos,\n",
    "    energy_range = [-10.0, 10.0],\n",
    "    bands_color=['red', 'yellow']\n",
    ")\n",
    "display(w5)"
   ]
  },
  {
   "cell_type": "code",
   "execution_count": null,
   "metadata": {},
   "outputs": [],
   "source": []
  }
 ],
 "metadata": {
  "kernelspec": {
   "display_name": "Python 3 (ipykernel)",
   "language": "python",
   "name": "python3"
  },
  "language_info": {
   "codemirror_mode": {
    "name": "ipython",
    "version": 3
   },
   "file_extension": ".py",
   "mimetype": "text/x-python",
   "name": "python",
   "nbconvert_exporter": "python",
   "pygments_lexer": "ipython3",
   "version": "3.10.0"
  }
 },
 "nbformat": 4,
 "nbformat_minor": 4
}
