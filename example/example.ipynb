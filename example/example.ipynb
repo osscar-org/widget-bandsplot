{
 "cells": [
  {
   "cell_type": "markdown",
   "metadata": {},
   "source": [
    "# **A Jupyter widget to plot the bandstructure and density of states (DOS)**\n",
    "\n",
    "<hr style=\"height:1px;border:none;color:#cccccc;background-color:#cccccc;\" />"
   ]
  },
  {
   "cell_type": "markdown",
   "metadata": {},
   "source": [
    "This is a Jupyter widget, which plots the bandstructure and density of states from given json files.\n",
    "\n",
    "## Input json files\n",
    "\n",
    "On the left, it plots the bandstructures. One can input several bandstructure json files as a list.\n",
    "The figure on the right shows the density of states, which can only show one DOS plot. The json files\n",
    "for the bandstructures can be generated from AiiDA with the verdi command:\n",
    "\n",
    "```bash\n",
    "verdi data bands export --format json <IDENTIFIER>\n",
    "```\n",
    "\n",
    "The json format for the DOS can be checked from the example data files, e.g. `data/Si_dos.json`.\n",
    "\n",
    "## Note on Fermi energy\n",
    "\n",
    "The Fermi energy is reading from the bands and DOS json files. And bandstructure and density \n",
    "of states plots are aligned to the Fermi energy (shift the Fermi energy to zero).\n",
    "\n",
    "In the default plot for the DOS, there is a horizontal line to highlight the Fermi level. One \n",
    "can turn it off by setting showFermi = False. The legend of the DOS can be turned off\n",
    "by set showLegend = False."
   ]
  },
  {
   "cell_type": "markdown",
   "metadata": {},
   "source": [
    "## Import modules and load example data files"
   ]
  },
  {
   "cell_type": "code",
   "execution_count": null,
   "metadata": {},
   "outputs": [],
   "source": [
    "# This cell is only needed for development, for javascript changes to be reflected in the notebook automatically.\n",
    "%load_ext autoreload\n",
    "%autoreload 2\n",
    "%env ANYWIDGET_HMR=1"
   ]
  },
  {
   "cell_type": "code",
   "execution_count": null,
   "metadata": {},
   "outputs": [],
   "source": [
    "from widget_bandsplot import BandsPlotWidget\n",
    "\n",
    "import json\n",
    "\n",
    "def load_file(filename):\n",
    "    with open(filename, 'r') as fhandle:\n",
    "        return json.load(fhandle)\n",
    "\n",
    "si_bands = load_file(\"./data/Si_bands.json\")\n",
    "si_dos = load_file(\"./data/Si_dos.json\")\n",
    "co_bands = load_file(\"./data/Co_bands.json\")\n",
    "co_dos = load_file(\"./data/Co_dos.json\")\n",
    "si_bands_shifted = load_file(\"./data/Si_bands_Shifted.json\")"
   ]
  },
  {
   "cell_type": "markdown",
   "metadata": {},
   "source": [
    "## Plot the Si bandstructure and density of states"
   ]
  },
  {
   "cell_type": "code",
   "execution_count": null,
   "metadata": {},
   "outputs": [],
   "source": [
    "w1 = BandsPlotWidget(\n",
    "    bands = [si_bands],\n",
    "    dos = si_dos,\n",
    "    energy_range = [-10.0, 10.0],\n",
    "    format_settings = {\n",
    "        \"showFermi\": True,\n",
    "        \"showLegend\": True,\n",
    "    }\n",
    ")\n",
    "display(w1)"
   ]
  },
  {
   "cell_type": "markdown",
   "metadata": {},
   "source": [
    "## Plot the Co bandstructure and density of states (spin polarized)"
   ]
  },
  {
   "cell_type": "code",
   "execution_count": null,
   "metadata": {},
   "outputs": [],
   "source": [
    "w2 = BandsPlotWidget(\n",
    "    bands=[co_bands],\n",
    "    dos=co_dos,\n",
    "    energy_range = [-10.0, 10.0],\n",
    "    bands_color = [[\"red\", \"blue\"]],\n",
    "    format_settings = {\n",
    "        \"showFermi\": True,\n",
    "        \"showLegend\": True,\n",
    "    }\n",
    ")\n",
    "\n",
    "display(w2)"
   ]
  },
  {
   "cell_type": "markdown",
   "metadata": {},
   "source": [
    "## Only plot the density of states for Co"
   ]
  },
  {
   "cell_type": "code",
   "execution_count": null,
   "metadata": {},
   "outputs": [],
   "source": [
    "w3 = BandsPlotWidget(\n",
    "    dos=co_dos,\n",
    "    energy_range = [-10.0, 10.0],\n",
    "    format_settings = {\n",
    "        \"showFermi\": True,\n",
    "        \"showLegend\": True,\n",
    "    }  \n",
    ")\n",
    "\n",
    "display(w3)"
   ]
  },
  {
   "cell_type": "markdown",
   "metadata": {},
   "source": [
    "## Only plot the Si bandstructure"
   ]
  },
  {
   "cell_type": "code",
   "execution_count": null,
   "metadata": {},
   "outputs": [],
   "source": [
    "w4 = BandsPlotWidget(\n",
    "    bands=[si_bands],\n",
    "    energy_range = [-10.0, 10.0]\n",
    ")\n",
    "display(w4)"
   ]
  },
  {
   "cell_type": "markdown",
   "metadata": {},
   "source": [
    "## Plot two bandstructure data"
   ]
  },
  {
   "cell_type": "code",
   "execution_count": null,
   "metadata": {},
   "outputs": [],
   "source": [
    "w5 = BandsPlotWidget(\n",
    "    bands=[si_bands, si_bands_shifted],\n",
    "    dos=si_dos,\n",
    "    energy_range = [-10.0, 10.0],\n",
    "    bands_color=['red', 'green']\n",
    ")\n",
    "display(w5)"
   ]
  },
  {
   "cell_type": "code",
   "execution_count": null,
   "metadata": {},
   "outputs": [],
   "source": []
  }
 ],
 "metadata": {
  "kernelspec": {
   "display_name": "Python 3 (ipykernel)",
   "language": "python",
   "name": "python3"
  },
  "language_info": {
   "codemirror_mode": {
    "name": "ipython",
    "version": 3
   },
   "file_extension": ".py",
   "mimetype": "text/x-python",
   "name": "python",
   "nbconvert_exporter": "python",
   "pygments_lexer": "ipython3",
   "version": "3.10.0"
  },
  "voila": {
   "authors": "Dou Du and Giovanni Pizzi"
  }
 },
 "nbformat": 4,
 "nbformat_minor": 4
}
