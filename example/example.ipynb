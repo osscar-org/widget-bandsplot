{
 "cells": [
  {
   "cell_type": "markdown",
   "metadata": {},
   "source": [
    "# **A Jupyter widget to plot the bandstructure and density of states (DOS)**\n",
    "\n",
    "<hr style=\"height:1px;border:none;color:#cccccc;background-color:#cccccc;\" />"
   ]
  },
  {
   "cell_type": "markdown",
   "metadata": {},
   "source": [
    "<p style=\"text-align: justify;font-size:15px\">\n",
    "    This is a Jupyter widget, which plots the bandstructure and density of states from given json files.\n",
    "</p>\n",
    "\n",
    "## **Input json files**\n",
    "\n",
    "<p style=\"text-align: justify;font-size:15px\">\n",
    "    On the left, it plots the bandstructures. One can input several bandstructure json files as a list.\n",
    "    The figure on the right shows the density of states, which can only show one DOS plot. The json files\n",
    "    for the bandstructures can be generated from AiiDA with the verdi command:\n",
    "</p>\n",
    "\n",
    "```bash\n",
    "verdi data bands export --format json <IDENTIFIER>\n",
    "```\n",
    "\n",
    "<p style=\"text-align: justify;font-size:15px\">\n",
    "    The json format for the DOS can be checked in the github repository.\n",
    "</p>\n",
    "\n",
    "<a href=\"https://raw.githubusercontent.com/osscar-org/widget-bandsplot/develop/example/data/Si_dos.json\">\n",
    "https://raw.githubusercontent.com/osscar-org/widget-bandsplot/develop/example/data/Si_dos.json</a>"
   ]
  },
  {
   "cell_type": "markdown",
   "metadata": {},
   "source": [
    "paramsparams<p style=\"text-align: justify;font-size:15px\">\n",
    "    Here, one needs to use the json package to load the json file and pass it to the widget.\n",
    "</p>\n",
    "\n",
    "```python\n",
    "with open('./data/Si_bands.json', 'r') as file:\n",
    "    band_Si = json.load(file)\n",
    "    \n",
    "with open('./data/Si_dos.json', 'r') as file:\n",
    "    dos_Si = json.load(file)\n",
    "```\n",
    "\n",
    "## **Fermi energy**\n",
    "\n",
    "<p style=\"text-align: justify;font-size:15px\">\n",
    "    The Fermi energy is reading from the bands and DOS json files. And bandstructure and density \n",
    "    of states plots are aligned to the Fermi energy (shift the Fermi energy to zero).\n",
    "</p>\n",
    "\n",
    "<p style=\"text-align: justify;font-size:15px\">\n",
    "    In the default plot for the DOS, there is a horizontal line to highlight the Fermi level. One \n",
    "    can turn it off by setting plot_fermilevel = False. The legend of the DOS can be turned off\n",
    "    by set show_legend = False.\n",
    "</p>\n",
    "\n",
    "## **Usage of the widget**\n",
    "\n",
    "<p style=\"text-align: justify;font-size:15px\">\n",
    "    Remeber to pass the bandstructure data as a list of json objects. \"energy_range\" sets the \n",
    "    energy range for the plots.\n",
    "</p>\n",
    "\n",
    "###  **Plot both bandstructure and DOS**\n",
    "```python\n",
    "w1 = BandsPlotWidget(bands=[band_Si], dos=dos_Si, plot_fermilevel = True, energy_range = {\"ymin\": -10.0, \"ymax\": 10.0})\n",
    "display(w1)\n",
    "```"
   ]
  },
  {
   "cell_type": "code",
   "execution_count": null,
   "metadata": {},
   "outputs": [],
   "source": [
    "from widget_bandsplot import BandsPlotWidget\n",
    "import json\n",
    "from copy import deepcopy"
   ]
  },
  {
   "cell_type": "code",
   "execution_count": null,
   "metadata": {},
   "outputs": [],
   "source": [
    "def load_file(filename):\n",
    "    with open(filename, 'r') as fhandle:\n",
    "        return json.load(fhandle)\n",
    "\n",
    "si_bands = load_file(\"./data/Si_bands.json\")\n",
    "si_dos = load_file(\"./data/Si_dos.json\")\n",
    "co_bands = load_file(\"./data/Co_bands.json\")\n",
    "co_dos = load_file(\"./data/Co_dos.json\")\n",
    "si_bands_shifted = load_file(\"./data/Si_bands_Shifted.json\")"
   ]
  },
  {
   "cell_type": "markdown",
   "metadata": {},
   "source": [
    "## Plot the Si bandstructure and density of states"
   ]
  },
  {
   "cell_type": "code",
   "execution_count": null,
   "metadata": {},
   "outputs": [],
   "source": [
    "w1 = BandsPlotWidget(\n",
    "    bands = [si_bands],\n",
    "    dos = si_dos,\n",
    "    energy_range = [-10.0, 10.0],\n",
    "    format_settings = {\n",
    "        \"showFermi\": True,\n",
    "        \"showLegend\": True,\n",
    "    }\n",
    ")\n",
    "display(w1)"
   ]
  },
  {
   "cell_type": "markdown",
   "metadata": {},
   "source": [
    "## Plot the Co bandstructure and density of states (spin polarized)"
   ]
  },
  {
   "cell_type": "code",
   "execution_count": null,
   "metadata": {},
   "outputs": [],
   "source": [
    "w2 = BandsPlotWidget(\n",
    "    bands=[co_bands],\n",
    "    dos=co_dos,\n",
    "    energy_range = [-10.0, 10.0],\n",
    "    bands_color = [[\"red\", \"blue\"]],\n",
    "    format_settings = {\n",
    "        \"showFermi\": True,\n",
    "        \"showLegend\": True,\n",
    "    }\n",
    ")\n",
    "\n",
    "display(w2)"
   ]
  },
  {
   "cell_type": "markdown",
   "metadata": {},
   "source": [
    "## Only plot the density of states for Co"
   ]
  },
  {
   "cell_type": "code",
   "execution_count": null,
   "metadata": {},
   "outputs": [],
   "source": [
    "w3 = BandsPlotWidget(\n",
    "    dos=co_dos,\n",
    "    energy_range = [-10.0, 10.0],\n",
    "    format_settings = {\n",
    "        \"showFermi\": True,\n",
    "        \"showLegend\": True,\n",
    "    }  \n",
    ")\n",
    "\n",
    "display(w3)"
   ]
  },
  {
   "cell_type": "markdown",
   "metadata": {},
   "source": [
    "## Only plot the Si bandstructure"
   ]
  },
  {
   "cell_type": "code",
   "execution_count": null,
   "metadata": {},
   "outputs": [],
   "source": [
    "w4 = BandsPlotWidget(\n",
    "    bands=[si_bands],\n",
    "    energy_range = [-10.0, 10.0]\n",
    ")\n",
    "display(w4)"
   ]
  },
  {
   "cell_type": "markdown",
   "metadata": {},
   "source": [
    "## Plot two bandstructure data"
   ]
  },
  {
   "cell_type": "code",
   "execution_count": null,
   "metadata": {},
   "outputs": [],
   "source": [
    "w5 = BandsPlotWidget(\n",
    "    bands=[si_bands, si_bands_shifted],\n",
    "    dos=si_dos,\n",
    "    energy_range = [-10.0, 10.0],\n",
    "    bands_color=['red', 'yellow']\n",
    ")\n",
    "display(w5)"
   ]
  },
  {
   "cell_type": "code",
   "execution_count": null,
   "metadata": {},
   "outputs": [],
   "source": []
  }
 ],
 "metadata": {
  "kernelspec": {
   "display_name": "Python 3 (ipykernel)",
   "language": "python",
   "name": "python3"
  },
  "language_info": {
   "codemirror_mode": {
    "name": "ipython",
    "version": 3
   },
   "file_extension": ".py",
   "mimetype": "text/x-python",
   "name": "python",
   "nbconvert_exporter": "python",
   "pygments_lexer": "ipython3",
   "version": "3.11.5"
  },
  "voila": {
   "authors": "Dou Du and Giovanni Pizzi"
  }
 },
 "nbformat": 4,
 "nbformat_minor": 4
}
