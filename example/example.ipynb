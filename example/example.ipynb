{
 "cells": [
  {
   "cell_type": "code",
   "execution_count": 1,
   "metadata": {},
   "outputs": [
    {
     "name": "stdout",
     "output_type": "stream",
     "text": [
      "env: ANYWIDGET_HMR=1\n"
     ]
    }
   ],
   "source": [
    "# This cell is only needed for development.\n",
    "%load_ext autoreload\n",
    "%autoreload 2\n",
    "%env ANYWIDGET_HMR=1"
   ]
  },
  {
   "cell_type": "code",
   "execution_count": 2,
   "metadata": {},
   "outputs": [],
   "source": [
    "import json\n",
    "\n",
    "def load_file(filename):\n",
    "    with open(filename, 'r') as fhandle:\n",
    "        return json.load(fhandle)\n",
    "\n",
    "si_bands = load_file(\"./data/Si_bands.json\")\n",
    "si_dos = load_file(\"./data/Si_dos.json\")\n",
    "co_bands = load_file(\"./data/Co_bands.json\")\n",
    "co_dos = load_file(\"./data/Co_dos.json\")\n",
    "si_bands_shifted = load_file(\"./data/Si_bands_Shifted.json\")"
   ]
  },
  {
   "cell_type": "code",
   "execution_count": 3,
   "metadata": {},
   "outputs": [],
   "source": [
    "from widget_bandsplot import BandsPlotWidget\n",
    "# Note: the widget might not work in the vscode jupyter visualizer\n",
    "# Jupyter notebook and lab seem to work fine."
   ]
  },
  {
   "cell_type": "markdown",
   "metadata": {},
   "source": [
    "## Plot Si bandstructure and density of states"
   ]
  },
  {
   "cell_type": "code",
   "execution_count": 4,
   "metadata": {},
   "outputs": [
    {
     "data": {
      "application/vnd.jupyter.widget-view+json": {
       "model_id": "709f5e8246d247fbbdfad474de5288da",
       "version_major": 2,
       "version_minor": 1
      },
      "text/plain": [
       "BandsPlotWidget(bands=[{'label': '', 'path': [['GAMMA', 'X'], ['X', 'U'], ['K', 'GAMMA'], ['GAMMA', 'L'], ['L'…"
      ]
     },
     "metadata": {},
     "output_type": "display_data"
    }
   ],
   "source": [
    "w1 = BandsPlotWidget(\n",
    "    bands = [si_bands],\n",
    "    dos = si_dos,\n",
    "    energy_range = [-8.0, 8.0],\n",
    "    format_settings = {\n",
    "        \"showFermi\": True,\n",
    "        \"showLegend\": True,\n",
    "    }\n",
    ")\n",
    "display(w1)"
   ]
  },
  {
   "cell_type": "markdown",
   "metadata": {},
   "source": [
    "## Plot Co bandstructure and density of states (spin polarized)"
   ]
  },
  {
   "cell_type": "code",
   "execution_count": 5,
   "metadata": {},
   "outputs": [
    {
     "data": {
      "application/vnd.jupyter.widget-view+json": {
       "model_id": "cb7bf3ace625413684085f640b4db436",
       "version_major": 2,
       "version_minor": 1
      },
      "text/plain": [
       "BandsPlotWidget(bands=[{'label': '', 'path': [['GAMMA', 'Y'], ['Y', 'C_0'], ['SIGMA_0', 'GAMMA'], ['GAMMA', 'Z…"
      ]
     },
     "metadata": {},
     "output_type": "display_data"
    }
   ],
   "source": [
    "w2 = BandsPlotWidget(\n",
    "    bands=[co_bands],\n",
    "    dos=co_dos,\n",
    "    energy_range = [-10.0, 10.0],\n",
    "    bands_color = [[\"red\", \"blue\"]])\n",
    "display(w2)"
   ]
  },
  {
   "cell_type": "markdown",
   "metadata": {},
   "source": [
    "## Only plot the density of states for Co"
   ]
  },
  {
   "cell_type": "code",
   "execution_count": 6,
   "metadata": {},
   "outputs": [
    {
     "data": {
      "application/vnd.jupyter.widget-view+json": {
       "model_id": "bfdcdd23e21845d0b2d8e6cbb6d0f3da",
       "version_major": 2,
       "version_minor": 1
      },
      "text/plain": [
       "BandsPlotWidget(dos={'fermi_energy': 18.249471602831, 'dos': [{'x': [-77.703, -77.683, -77.663, -77.643, -77.6…"
      ]
     },
     "metadata": {},
     "output_type": "display_data"
    }
   ],
   "source": [
    "w3 = BandsPlotWidget(\n",
    "    dos=co_dos,\n",
    "    energy_range = [-10.0, 10.0]\n",
    ")\n",
    "display(w3)"
   ]
  },
  {
   "cell_type": "markdown",
   "metadata": {},
   "source": [
    "## Only plot the Si bandstructure"
   ]
  },
  {
   "cell_type": "code",
   "execution_count": 7,
   "metadata": {},
   "outputs": [
    {
     "data": {
      "application/vnd.jupyter.widget-view+json": {
       "model_id": "a313db7073a240118703134188f83983",
       "version_major": 2,
       "version_minor": 1
      },
      "text/plain": [
       "BandsPlotWidget(bands=[{'label': '', 'path': [['GAMMA', 'X'], ['X', 'U'], ['K', 'GAMMA'], ['GAMMA', 'L'], ['L'…"
      ]
     },
     "metadata": {},
     "output_type": "display_data"
    }
   ],
   "source": [
    "w4 = BandsPlotWidget(\n",
    "    bands=[si_bands],\n",
    "    energy_range = [-10.0, 10.0]\n",
    ")\n",
    "display(w4)"
   ]
  },
  {
   "cell_type": "markdown",
   "metadata": {},
   "source": [
    "## Plot two bandstructures"
   ]
  },
  {
   "cell_type": "code",
   "execution_count": 8,
   "metadata": {},
   "outputs": [
    {
     "data": {
      "application/vnd.jupyter.widget-view+json": {
       "model_id": "55501976c2ac42ed856c81b5a542d2f8",
       "version_major": 2,
       "version_minor": 1
      },
      "text/plain": [
       "BandsPlotWidget(bands=[{'label': '', 'path': [['GAMMA', 'X'], ['X', 'U'], ['K', 'GAMMA'], ['GAMMA', 'L'], ['L'…"
      ]
     },
     "metadata": {},
     "output_type": "display_data"
    }
   ],
   "source": [
    "w5 = BandsPlotWidget(\n",
    "    bands=[si_bands, si_bands_shifted],\n",
    "    dos=si_dos,\n",
    "    energy_range = [-10.0, 10.0],\n",
    "    bands_color=['red', 'yellow']\n",
    ")\n",
    "display(w5)"
   ]
  },
  {
   "cell_type": "code",
   "execution_count": null,
   "metadata": {},
   "outputs": [],
   "source": []
  },
  {
   "cell_type": "code",
   "execution_count": null,
   "metadata": {},
   "outputs": [],
   "source": []
  },
  {
   "cell_type": "code",
   "execution_count": null,
   "metadata": {},
   "outputs": [],
   "source": []
  },
  {
   "cell_type": "code",
   "execution_count": null,
   "metadata": {},
   "outputs": [],
   "source": []
  }
 ],
 "metadata": {
  "kernelspec": {
   "display_name": "Python 3 (ipykernel)",
   "language": "python",
   "name": "python3"
  },
  "language_info": {
   "codemirror_mode": {
    "name": "ipython",
    "version": 3
   },
   "file_extension": ".py",
   "mimetype": "text/x-python",
   "name": "python",
   "nbconvert_exporter": "python",
   "pygments_lexer": "ipython3",
   "version": "3.11.7"
  }
 },
 "nbformat": 4,
 "nbformat_minor": 4
}
